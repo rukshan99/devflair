{
 "cells": [
  {
   "cell_type": "markdown",
   "id": "3cf546c4",
   "metadata": {},
   "source": [
    "# Ranking and Recommendation Model\n",
    "Advanced Fitering System\n",
    "\n",
    "Developed by: Kariyawasam K.G.S.S.K"
   ]
  },
  {
   "cell_type": "markdown",
   "id": "fc10140f",
   "metadata": {},
   "source": [
    "# Required Libraries"
   ]
  },
  {
   "cell_type": "code",
   "execution_count": null,
   "id": "c72d4326",
   "metadata": {},
   "outputs": [],
   "source": [
    "import pandas as pd\n",
    "import numpy as np\n",
    "import os\n",
    "import pickle\n",
    "import warnings\n",
    "import math \n",
    "\n",
    "from matplotlib import pyplot as plt\n",
    "from pandas import DataFrame, Series\n",
    "from math import *\n",
    "from scipy.spatial import distance\n",
    "from decimal import Decimal\n",
    "\n",
    "warnings.filterwarnings('ignore')\n",
    "\n",
    "status_data=pd.read_csv(\"RRMDataSet.csv\",sep=\",\")\n",
    "status_data"
   ]
  },
  {
   "cell_type": "markdown",
   "id": "d8360e9a",
   "metadata": {},
   "source": [
    "# Preprocessor"
   ]
  },
  {
   "cell_type": "code",
   "execution_count": null,
   "id": "4c7daa06",
   "metadata": {},
   "outputs": [],
   "source": [
    "df = status_data.loc[status_data['cOPN'] == 1]\n",
    "df.head(30)"
   ]
  },
  {
   "cell_type": "code",
   "execution_count": null,
   "id": "8f0775f8",
   "metadata": {},
   "outputs": [],
   "source": [
    "def multiply_s1(x):\n",
    "    return x * 0.7\n",
    "\n",
    "df['cSkillScore'] = df['cSkillScore'].apply(multiply_s1)\n",
    "df.head(5)\n"
   ]
  },
  {
   "cell_type": "code",
   "execution_count": null,
   "id": "65c8d6b0",
   "metadata": {},
   "outputs": [],
   "source": [
    "def multiply_s2(x):\n",
    "    return x * 0.3\n",
    "\n",
    "df['cLanUsageScore'] = df['cLanUsageScore'].apply(multiply_s2)\n",
    "df.head(5)"
   ]
  },
  {
   "cell_type": "code",
   "execution_count": null,
   "id": "0c71db46",
   "metadata": {},
   "outputs": [],
   "source": [
    "S_cols = ['cSkillScore', 'cLanUsageScore']\n",
    "\n",
    "df['S_Compound'] = df[S_cols].sum(axis=1)\n",
    "df.head(5)"
   ]
  },
  {
   "cell_type": "code",
   "execution_count": null,
   "id": "94b5a03d",
   "metadata": {},
   "outputs": [],
   "source": [
    "def multply(x):\n",
    "    return x * (-1)\n",
    "\n",
    "df['cNEU'] = df['cNEU'].apply(multply)\n",
    "df.head(5)"
   ]
  },
  {
   "cell_type": "code",
   "execution_count": null,
   "id": "4615a53d",
   "metadata": {},
   "outputs": [],
   "source": [
    "P_cols = ['cOPN', 'cCON','cEXT', 'cAGR', 'cNEU']\n",
    "\n",
    "df['P_Compound'] = df[P_cols].sum(axis=1)\n",
    "df.head(5)"
   ]
  },
  {
   "cell_type": "code",
   "execution_count": null,
   "id": "c99d636a",
   "metadata": {
    "scrolled": true
   },
   "outputs": [],
   "source": [
    "def P_multiply(x):\n",
    "    return x * 20\n",
    "\n",
    "df['P_Compound'] = df['P_Compound'].apply(P_multiply)\n",
    "df.head(5)"
   ]
  },
  {
   "cell_type": "code",
   "execution_count": null,
   "id": "f1e4c23d",
   "metadata": {},
   "outputs": [],
   "source": [
    "# Drop NAs\n",
    "status_data = status_data.dropna()\n",
    "\n",
    "# We drop columns which give us a score for personality type\n",
    "df = df.drop(['cSkillScore','cLanUsageScore'], axis=1)"
   ]
  },
  {
   "cell_type": "code",
   "execution_count": null,
   "id": "8f2a85a1",
   "metadata": {},
   "outputs": [],
   "source": [
    "df.head(10)"
   ]
  },
  {
   "cell_type": "code",
   "execution_count": null,
   "id": "771b188a",
   "metadata": {},
   "outputs": [],
   "source": [
    "def C1_multiply(x):\n",
    "    return x * 0.25 \n",
    "\n",
    "df['P_Compound'] = df['P_Compound'].apply(C1_multiply)\n",
    "df.head(5)"
   ]
  },
  {
   "cell_type": "code",
   "execution_count": null,
   "id": "a676bcf8",
   "metadata": {},
   "outputs": [],
   "source": [
    "def C2_multiply(x):\n",
    "    return x * 0.75 \n",
    "\n",
    "df['S_Compound'] = df['S_Compound'].apply(C2_multiply)\n",
    "df.head(100)"
   ]
  },
  {
   "cell_type": "markdown",
   "id": "8084576e",
   "metadata": {},
   "source": [
    "# Data Visualization"
   ]
  },
  {
   "cell_type": "code",
   "execution_count": null,
   "id": "0c41848a",
   "metadata": {},
   "outputs": [],
   "source": [
    "L_Count = status_data['Language_type'].value_counts()\n",
    "print(L_Count)"
   ]
  },
  {
   "cell_type": "code",
   "execution_count": null,
   "id": "1471ce00",
   "metadata": {},
   "outputs": [],
   "source": [
    "Languages = ['Java', 'Python', 'React']\n",
    "L_df = pd.DataFrame({'L_Count': L_Count,\n",
    "                         'Languages': Languages})\n",
    "\n",
    "ind = np.arange(len(L_df))\n",
    "width = 0.4\n",
    "\n",
    "fig, ax = plt.subplots(figsize=(8, 6), dpi=60)\n",
    "ax.barh(ind, L_df.L_Count, width, label='Language Count')\n",
    "ax.set(yticks=ind + width, yticklabels=L_df.Languages, ylim=[width - 1, len(L_df)])\n",
    "ax.legend(bbox_to_anchor=(1.35, 0.9), loc='upper right', borderaxespad=0)\n",
    "ax.bar_label(ax.containers[0], label_type='edge')\n",
    "plt.title('Distribution of Lanuages')\n",
    "plt.show()"
   ]
  },
  {
   "cell_type": "code",
   "execution_count": null,
   "id": "8fa9d04d",
   "metadata": {},
   "outputs": [],
   "source": [
    "cOPN_counts = status_data['cOPN'].value_counts()\n",
    "print(cOPN_counts)\n",
    "\n",
    "cCON_counts = status_data['cCON'].value_counts()\n",
    "print(cCON_counts)\n",
    "\n",
    "cEXT_counts = status_data['cEXT'].value_counts()\n",
    "print(cEXT_counts)\n",
    "\n",
    "cAGR_counts = status_data['cAGR'].value_counts()\n",
    "print(cAGR_counts)\n",
    "\n",
    "cNEU_counts = status_data['cNEU'].value_counts()\n",
    "print(cNEU_counts)"
   ]
  },
  {
   "cell_type": "code",
   "execution_count": null,
   "id": "78de3bfd",
   "metadata": {},
   "outputs": [],
   "source": [
    "personalities = ['Openness', 'Conscientiousness', 'Extraversion', 'Aggreableness', 'Neuroticism']\n",
    "with_RelatedPersonality_counts = [cOPN_counts[1], cCON_counts[1], cEXT_counts[1], cAGR_counts[1], cNEU_counts[1]]\n",
    "without_RelatedPersonality_counts = [cOPN_counts[0], cCON_counts[0], cEXT_counts[0], cAGR_counts[0], cNEU_counts[0]]\n",
    "\n",
    "traits_df = pd.DataFrame({'with_RelatedPersonality_counts': with_RelatedPersonality_counts, \n",
    "                              'without_RelatedPersonality_counts': without_RelatedPersonality_counts,\n",
    "                              'personalities': personalities})\n",
    "ind = np.arange(len(traits_df))\n",
    "width = 0.4\n",
    "\n",
    "fig, ax = plt.subplots(figsize=(10, 7), dpi=60)\n",
    "ax.barh(ind, traits_df.without_RelatedPersonality_counts, width, label='Without Related Personality')\n",
    "ax.barh(ind + width, traits_df.with_RelatedPersonality_counts, width, label='With Related Personality')\n",
    "ax.set(yticks=ind + width, yticklabels=traits_df.personalities, ylim=[2*width - 1, len(traits_df)])\n",
    "ax.legend(bbox_to_anchor=(1.35, 0.9), loc='upper right', borderaxespad=0)\n",
    "ax.bar_label(ax.containers[0], label_type='edge')\n",
    "ax.bar_label(ax.containers[1], label_type='edge')\n",
    "plt.title('Distribution of Big-Five Personalities')\n",
    "plt.show()"
   ]
  },
  {
   "cell_type": "code",
   "execution_count": null,
   "id": "6c782901",
   "metadata": {},
   "outputs": [],
   "source": [
    "df.plot(\n",
    "    x = 'S_Compound',\n",
    "    y = 'P_Compound',\n",
    "    kind = 'scatter')\n",
    "plt.show()"
   ]
  },
  {
   "cell_type": "markdown",
   "id": "e2aae1b6",
   "metadata": {},
   "source": [
    "# Euclidean distance "
   ]
  },
  {
   "cell_type": "code",
   "execution_count": null,
   "id": "de87abfb",
   "metadata": {
    "scrolled": true
   },
   "outputs": [],
   "source": [
    "# initializing points in\n",
    "# numpy arrays\n",
    "x1 = 75\n",
    "y1 = 25\n",
    "\n",
    "x2= df.S_Compound.values\n",
    "y2= df.P_Compound.values\n",
    "\n",
    "d = np.square(x1 - x2) + np.square(y1 - y2)\n",
    "distance = np.sqrt(d)\n",
    "\n",
    "# print Euclidean distance \n",
    "print(distance)\n",
    "\n",
    " \n",
    "\n",
    "df['E_distance'] = distance\n",
    "\n",
    "df.head(10)"
   ]
  },
  {
   "cell_type": "code",
   "execution_count": null,
   "id": "b6122c18",
   "metadata": {},
   "outputs": [],
   "source": [
    "df.sort_values(by=['E_distance'])"
   ]
  },
  {
   "cell_type": "markdown",
   "id": "c49d034e",
   "metadata": {},
   "source": [
    "# Manhattan Distance "
   ]
  },
  {
   "cell_type": "code",
   "execution_count": null,
   "id": "133d0f15",
   "metadata": {},
   "outputs": [],
   "source": [
    "# initializing points in\n",
    "\n",
    "def manhattan(a, b):\n",
    "    return sum(abs(val1-val2) for val1, val2 in zip(a,b))\n",
    "\n",
    "x1 = 75\n",
    "y1 = 25\n",
    "\n",
    "x2= df.S_Compound.values\n",
    "y2= df.P_Compound.values\n",
    "\n",
    "A = [x1,y1]\n",
    "B = [x2,y2]\n",
    "\n",
    "distance = manhattan(A, B)\n",
    "\n",
    "# print Euclidean distance \n",
    "print(distance)\n",
    "\n",
    " \n",
    "\n",
    "df['M_distance'] = distance\n",
    "df.head(10)"
   ]
  },
  {
   "cell_type": "code",
   "execution_count": null,
   "id": "bb394246",
   "metadata": {},
   "outputs": [],
   "source": [
    "df.sort_values(by=['M_distance'])"
   ]
  },
  {
   "cell_type": "markdown",
   "id": "3b869e48",
   "metadata": {},
   "source": [
    "# Hamming Distance"
   ]
  },
  {
   "cell_type": "code",
   "execution_count": null,
   "id": "401244bc",
   "metadata": {},
   "outputs": [],
   "source": [
    "def hamming_distance(a, b):\n",
    "    return sum(abs(e1 - e2) for e1, e2 in zip(a, b)) / len(a)\n",
    "\n",
    "x1 = 75\n",
    "y1 = 25\n",
    "\n",
    "x2= df.S_Compound.values\n",
    "y2= df.P_Compound.values\n",
    "\n",
    "A = [x1,y1]\n",
    "B = [x2,y2]\n",
    "\n",
    "distance = hamming_distance(A, B)\n",
    "\n",
    "# print Euclidean distance \n",
    "print(distance)\n",
    "\n",
    "df['H_distance'] = distance\n",
    "df.head(10)"
   ]
  },
  {
   "cell_type": "code",
   "execution_count": null,
   "id": "a6762b2a",
   "metadata": {},
   "outputs": [],
   "source": [
    "df.sort_values(by=['H_distance'])"
   ]
  }
 ],
 "metadata": {
  "kernelspec": {
   "display_name": "Python 3 (ipykernel)",
   "language": "python",
   "name": "python3"
  },
  "language_info": {
   "codemirror_mode": {
    "name": "ipython",
    "version": 3
   },
   "file_extension": ".py",
   "mimetype": "text/x-python",
   "name": "python",
   "nbconvert_exporter": "python",
   "pygments_lexer": "ipython3",
   "version": "3.9.7"
  }
 },
 "nbformat": 4,
 "nbformat_minor": 5
}
