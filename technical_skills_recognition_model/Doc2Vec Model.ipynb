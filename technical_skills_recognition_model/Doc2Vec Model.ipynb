{
 "cells": [
  {
   "cell_type": "code",
   "execution_count": 1,
   "id": "a40137ce",
   "metadata": {},
   "outputs": [],
   "source": [
    "import pandas as pd\n",
    "import numpy as np\n",
    "import nltk\n",
    "import re\n",
    "import gensim\n",
    " \n",
    "from gensim.models import Doc2Vec\n",
    "from gensim.models.doc2vec import TaggedDocument\n",
    "from nltk import word_tokenize\n",
    "from nltk.stem import PorterStemmer\n",
    "from nltk.corpus import stopwords\n",
    "from gensim.models.doc2vec import TaggedDocument\n",
    "from tqdm import tqdm\n",
    "import multiprocessing\n",
    "from nltk.tokenize import word_tokenize"
   ]
  },
  {
   "cell_type": "code",
   "execution_count": 19,
   "id": "5ed675f2",
   "metadata": {},
   "outputs": [
    {
     "data": {
      "text/plain": [
       "['The process of searching for a job can be very stressful, but it doesn’t have to be. Start with a        well-written resume that has appropriate keywords for your occupation. Next, conduct a targeted job search        for positions that meet your needs.',\n",
       " 'Gardening in mixed beds is a great way to get the most productivity from a small space. Some investment        is required, to purchase materials for the beds themselves, as well as soil and compost. The        investment will likely pay-off in terms of increased productivity.',\n",
       " 'Looking for a job can be very stressful, but it doesn’t have to be. Begin by writing a good resume with        appropriate keywords for your occupation. Second, target your job search for positions that match your        needs.']"
      ]
     },
     "execution_count": 19,
     "metadata": {},
     "output_type": "execute_result"
    }
   ],
   "source": [
    "data = [\"The process of searching for a job can be very stressful, but it doesn’t have to be. Start with a\\\n",
    "        well-written resume that has appropriate keywords for your occupation. Next, conduct a targeted job search\\\n",
    "        for positions that meet your needs.\",\n",
    "        \"Gardening in mixed beds is a great way to get the most productivity from a small space. Some investment\\\n",
    "        is required, to purchase materials for the beds themselves, as well as soil and compost. The\\\n",
    "        investment will likely pay-off in terms of increased productivity.\",\n",
    "        \"Looking for a job can be very stressful, but it doesn’t have to be. Begin by writing a good resume with\\\n",
    "        appropriate keywords for your occupation. Second, target your job search for positions that match your\\\n",
    "        needs.\"]\n",
    "data"
   ]
  },
  {
   "cell_type": "code",
   "execution_count": 4,
   "id": "9ea4ca4f",
   "metadata": {},
   "outputs": [
    {
     "name": "stdout",
     "output_type": "stream",
     "text": [
      "[TaggedDocument(words=['the', 'process', 'of', 'searching', 'for', 'a', 'job', 'can', 'be', 'very', 'stressful', ',', 'but', 'it', 'doesn', '’', 't', 'have', 'to', 'be', '.', 'start', 'with', 'a', 'well-written', 'resume', 'that', 'has', 'appropriate', 'keywords', 'for', 'your', 'occupation', '.', 'next', ',', 'conduct', 'a', 'targeted', 'job', 'search', 'for', 'positions', 'that', 'meet', 'your', 'needs', '.'], tags=['0']), TaggedDocument(words=['gardening', 'in', 'mixed', 'beds', 'is', 'a', 'great', 'way', 'to', 'get', 'the', 'most', 'productivity', 'from', 'a', 'small', 'space', '.', 'some', 'investment', 'is', 'required', ',', 'to', 'purchase', 'materials', 'for', 'the', 'beds', 'themselves', ',', 'as', 'well', 'as', 'soil', 'and', 'compost', '.', 'the', 'investment', 'will', 'likely', 'pay-off', 'in', 'terms', 'of', 'increased', 'productivity', '.'], tags=['1']), TaggedDocument(words=['looking', 'for', 'a', 'job', 'can', 'be', 'very', 'stressful', ',', 'but', 'it', 'doesn', '’', 't', 'have', 'to', 'be', '.', 'begin', 'by', 'writing', 'a', 'good', 'resume', 'with', 'appropriate', 'keywords', 'for', 'your', 'occupation', '.', 'second', ',', 'target', 'your', 'job', 'search', 'for', 'positions', 'that', 'match', 'your', 'needs', '.'], tags=['2'])]\n"
     ]
    }
   ],
   "source": [
    "tagged_data = [TaggedDocument(words=word_tokenize(_d.lower()), tags=[str(i)]) for i, _d in enumerate(data)]\n",
    "print (tagged_data)"
   ]
  },
  {
   "cell_type": "code",
   "execution_count": 5,
   "id": "d15ad845",
   "metadata": {},
   "outputs": [],
   "source": [
    "model = gensim.models.doc2vec.Doc2Vec(vector_size=30, min_count=2, epochs=80)\n",
    "model.build_vocab(tagged_data)\n"
   ]
  },
  {
   "cell_type": "code",
   "execution_count": 6,
   "id": "ea463e89",
   "metadata": {},
   "outputs": [],
   "source": [
    "model.train(tagged_data, total_examples=model.corpus_count, epochs=80)\n",
    "# for epoch in range(20):\n",
    "#     model.train(labeled_questions,epochs=model.iter,total_examples=model.corpus_count)\n",
    "#     print(\"Epoch #{} is complete.\".format(epoch+1))"
   ]
  },
  {
   "cell_type": "code",
   "execution_count": 16,
   "id": "dd8a2af3",
   "metadata": {},
   "outputs": [
    {
     "name": "stdout",
     "output_type": "stream",
     "text": [
      "0.91996104\n"
     ]
    }
   ],
   "source": [
    "similarity = model.dv.similarity('0','1')\n",
    "print(similarity)"
   ]
  }
 ],
 "metadata": {
  "kernelspec": {
   "display_name": "Python 3 (ipykernel)",
   "language": "python",
   "name": "python3"
  },
  "language_info": {
   "codemirror_mode": {
    "name": "ipython",
    "version": 3
   },
   "file_extension": ".py",
   "mimetype": "text/x-python",
   "name": "python",
   "nbconvert_exporter": "python",
   "pygments_lexer": "ipython3",
   "version": "3.9.7"
  }
 },
 "nbformat": 4,
 "nbformat_minor": 5
}
