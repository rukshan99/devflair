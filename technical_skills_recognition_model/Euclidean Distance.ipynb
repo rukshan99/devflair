{
 "cells": [
  {
   "cell_type": "code",
   "execution_count": 1,
   "id": "c286f4ff",
   "metadata": {},
   "outputs": [],
   "source": [
    "import pandas as pd\n",
    "import numpy as np"
   ]
  },
  {
   "cell_type": "code",
   "execution_count": 2,
   "id": "33054633",
   "metadata": {},
   "outputs": [],
   "source": [
    "text_1 = \"I love playing football with my friends\"\n",
    "text_2 = \"I hate waching and playing basketball\"\n",
    "text_3 = \"When I was a kid I was playing football with my friends every day all the evening\""
   ]
  },
  {
   "cell_type": "code",
   "execution_count": 3,
   "id": "9be7cc04",
   "metadata": {},
   "outputs": [],
   "source": [
    "## Create a list of the sentences\n",
    "texts = [text_1, text_2, text_3]"
   ]
  },
  {
   "cell_type": "code",
   "execution_count": 4,
   "id": "3a3348c7",
   "metadata": {},
   "outputs": [],
   "source": [
    "from sklearn.feature_extraction.text import CountVectorizer"
   ]
  },
  {
   "cell_type": "code",
   "execution_count": 5,
   "id": "a5c96911",
   "metadata": {},
   "outputs": [],
   "source": [
    "## Firstly let's count the words using the CountVectorizer\n",
    "count_vectorizer = CountVectorizer(stop_words='english')\n",
    "count_vectorizer = CountVectorizer()\n",
    "matrix = count_vectorizer.fit_transform(texts)"
   ]
  },
  {
   "cell_type": "code",
   "execution_count": 6,
   "id": "875a70a2",
   "metadata": {},
   "outputs": [
    {
     "data": {
      "text/html": [
       "<div>\n",
       "<style scoped>\n",
       "    .dataframe tbody tr th:only-of-type {\n",
       "        vertical-align: middle;\n",
       "    }\n",
       "\n",
       "    .dataframe tbody tr th {\n",
       "        vertical-align: top;\n",
       "    }\n",
       "\n",
       "    .dataframe thead th {\n",
       "        text-align: right;\n",
       "    }\n",
       "</style>\n",
       "<table border=\"1\" class=\"dataframe\">\n",
       "  <thead>\n",
       "    <tr style=\"text-align: right;\">\n",
       "      <th></th>\n",
       "      <th>all</th>\n",
       "      <th>and</th>\n",
       "      <th>basketball</th>\n",
       "      <th>day</th>\n",
       "      <th>evening</th>\n",
       "      <th>every</th>\n",
       "      <th>football</th>\n",
       "      <th>friends</th>\n",
       "      <th>hate</th>\n",
       "      <th>kid</th>\n",
       "      <th>love</th>\n",
       "      <th>my</th>\n",
       "      <th>playing</th>\n",
       "      <th>the</th>\n",
       "      <th>waching</th>\n",
       "      <th>was</th>\n",
       "      <th>when</th>\n",
       "      <th>with</th>\n",
       "    </tr>\n",
       "  </thead>\n",
       "  <tbody>\n",
       "    <tr>\n",
       "      <th>text_1</th>\n",
       "      <td>0</td>\n",
       "      <td>0</td>\n",
       "      <td>0</td>\n",
       "      <td>0</td>\n",
       "      <td>0</td>\n",
       "      <td>0</td>\n",
       "      <td>1</td>\n",
       "      <td>1</td>\n",
       "      <td>0</td>\n",
       "      <td>0</td>\n",
       "      <td>1</td>\n",
       "      <td>1</td>\n",
       "      <td>1</td>\n",
       "      <td>0</td>\n",
       "      <td>0</td>\n",
       "      <td>0</td>\n",
       "      <td>0</td>\n",
       "      <td>1</td>\n",
       "    </tr>\n",
       "    <tr>\n",
       "      <th>text_2</th>\n",
       "      <td>0</td>\n",
       "      <td>1</td>\n",
       "      <td>1</td>\n",
       "      <td>0</td>\n",
       "      <td>0</td>\n",
       "      <td>0</td>\n",
       "      <td>0</td>\n",
       "      <td>0</td>\n",
       "      <td>1</td>\n",
       "      <td>0</td>\n",
       "      <td>0</td>\n",
       "      <td>0</td>\n",
       "      <td>1</td>\n",
       "      <td>0</td>\n",
       "      <td>1</td>\n",
       "      <td>0</td>\n",
       "      <td>0</td>\n",
       "      <td>0</td>\n",
       "    </tr>\n",
       "    <tr>\n",
       "      <th>text_2</th>\n",
       "      <td>1</td>\n",
       "      <td>0</td>\n",
       "      <td>0</td>\n",
       "      <td>1</td>\n",
       "      <td>1</td>\n",
       "      <td>1</td>\n",
       "      <td>1</td>\n",
       "      <td>1</td>\n",
       "      <td>0</td>\n",
       "      <td>1</td>\n",
       "      <td>0</td>\n",
       "      <td>1</td>\n",
       "      <td>1</td>\n",
       "      <td>1</td>\n",
       "      <td>0</td>\n",
       "      <td>2</td>\n",
       "      <td>1</td>\n",
       "      <td>1</td>\n",
       "    </tr>\n",
       "  </tbody>\n",
       "</table>\n",
       "</div>"
      ],
      "text/plain": [
       "        all  and  basketball  day  evening  every  football  friends  hate  \\\n",
       "text_1    0    0           0    0        0      0         1        1     0   \n",
       "text_2    0    1           1    0        0      0         0        0     1   \n",
       "text_2    1    0           0    1        1      1         1        1     0   \n",
       "\n",
       "        kid  love  my  playing  the  waching  was  when  with  \n",
       "text_1    0     1   1        1    0        0    0     0     1  \n",
       "text_2    0     0   0        1    0        1    0     0     0  \n",
       "text_2    1     0   1        1    1        0    2     1     1  "
      ]
     },
     "execution_count": 6,
     "metadata": {},
     "output_type": "execute_result"
    }
   ],
   "source": [
    "## we can create a dataframe to represent the number of the words in every sentence\n",
    "table = matrix.todense()\n",
    "df = pd.DataFrame(table, \n",
    "                  columns=count_vectorizer.get_feature_names(), \n",
    "                  index=['text_1', 'text_2', 'text_2'])\n",
    "df"
   ]
  },
  {
   "cell_type": "markdown",
   "id": "e1e394d9",
   "metadata": {},
   "source": [
    "### Calculating the Euclidean distance using Python"
   ]
  },
  {
   "cell_type": "code",
   "execution_count": 7,
   "id": "9000a73c",
   "metadata": {},
   "outputs": [
    {
     "data": {
      "text/html": [
       "<div>\n",
       "<style scoped>\n",
       "    .dataframe tbody tr th:only-of-type {\n",
       "        vertical-align: middle;\n",
       "    }\n",
       "\n",
       "    .dataframe tbody tr th {\n",
       "        vertical-align: top;\n",
       "    }\n",
       "\n",
       "    .dataframe thead th {\n",
       "        text-align: right;\n",
       "    }\n",
       "</style>\n",
       "<table border=\"1\" class=\"dataframe\">\n",
       "  <thead>\n",
       "    <tr style=\"text-align: right;\">\n",
       "      <th></th>\n",
       "      <th>Text_1</th>\n",
       "      <th>Text_2</th>\n",
       "      <th>Text_3</th>\n",
       "    </tr>\n",
       "  </thead>\n",
       "  <tbody>\n",
       "    <tr>\n",
       "      <th>text_1</th>\n",
       "      <td>0.000000</td>\n",
       "      <td>3.000000</td>\n",
       "      <td>3.464102</td>\n",
       "    </tr>\n",
       "    <tr>\n",
       "      <th>text_2</th>\n",
       "      <td>3.000000</td>\n",
       "      <td>0.000000</td>\n",
       "      <td>4.358899</td>\n",
       "    </tr>\n",
       "    <tr>\n",
       "      <th>text_3</th>\n",
       "      <td>3.464102</td>\n",
       "      <td>4.358899</td>\n",
       "      <td>0.000000</td>\n",
       "    </tr>\n",
       "  </tbody>\n",
       "</table>\n",
       "</div>"
      ],
      "text/plain": [
       "          Text_1    Text_2    Text_3\n",
       "text_1  0.000000  3.000000  3.464102\n",
       "text_2  3.000000  0.000000  4.358899\n",
       "text_3  3.464102  4.358899  0.000000"
      ]
     },
     "execution_count": 7,
     "metadata": {},
     "output_type": "execute_result"
    }
   ],
   "source": [
    "## Compute the Euclidean distance of these sentences\n",
    "from scipy.spatial import distance\n",
    "\n",
    "matrix = distance.cdist(df, df, 'euclidean')\n",
    "\n",
    "df_eucl = pd.DataFrame(matrix, \n",
    "                  columns= [\"Text_1\", \"Text_2\", \"Text_3\"],\n",
    "                  index=['text_1', 'text_2', 'text_3'])\n",
    "df_eucl"
   ]
  },
  {
   "cell_type": "code",
   "execution_count": null,
   "id": "bb31ece2",
   "metadata": {},
   "outputs": [],
   "source": []
  }
 ],
 "metadata": {
  "kernelspec": {
   "display_name": "Python 3 (ipykernel)",
   "language": "python",
   "name": "python3"
  },
  "language_info": {
   "codemirror_mode": {
    "name": "ipython",
    "version": 3
   },
   "file_extension": ".py",
   "mimetype": "text/x-python",
   "name": "python",
   "nbconvert_exporter": "python",
   "pygments_lexer": "ipython3",
   "version": "3.9.7"
  }
 },
 "nbformat": 4,
 "nbformat_minor": 5
}
