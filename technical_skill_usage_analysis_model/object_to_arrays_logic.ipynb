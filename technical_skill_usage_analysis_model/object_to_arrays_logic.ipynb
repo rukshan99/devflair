{
 "cells": [
  {
   "cell_type": "code",
   "execution_count": 9,
   "id": "7e79b777",
   "metadata": {},
   "outputs": [
    {
     "data": {
      "text/plain": [
       "[[{'JavaScript': 24131}, {'HTML': 1078}, {'CSS': 564}]]"
      ]
     },
     "execution_count": 9,
     "metadata": {},
     "output_type": "execute_result"
    }
   ],
   "source": [
    "d = {'JavaScript': 24131, 'HTML': 1078, 'CSS': 564}\n",
    "\n",
    "langArr = []\n",
    "\n",
    "arr = []\n",
    "\n",
    "for key, value in d.items():\n",
    "    b = {key : value}\n",
    "    arr.append(b)\n",
    "    \n",
    "langArr.append(arr)\n",
    "\n",
    "langArr"
   ]
  },
  {
   "cell_type": "code",
   "execution_count": 10,
   "id": "9cca10f5",
   "metadata": {},
   "outputs": [
    {
     "data": {
      "text/plain": [
       "[[{'JavaScript': 24131}, {'HTML': 1078}, {'CSS': 564}],\n",
       " [{'JavaScript': 19841}, {'HTML': 1084}, {'CSS': 564}, {'Shell': 103}]]"
      ]
     },
     "execution_count": 10,
     "metadata": {},
     "output_type": "execute_result"
    }
   ],
   "source": [
    "e = {'JavaScript': 19841, 'HTML': 1084, 'CSS': 564, 'Shell': 103}\n",
    "\n",
    "arr2 = []\n",
    "\n",
    "for key, value in e.items():\n",
    "    b = {key : value}\n",
    "    arr2.append(b)\n",
    "    \n",
    "arr2\n",
    "langArr.append(arr2)\n",
    "\n",
    "langArr\n"
   ]
  },
  {
   "cell_type": "code",
   "execution_count": 18,
   "id": "e483738f",
   "metadata": {},
   "outputs": [
    {
     "name": "stdout",
     "output_type": "stream",
     "text": [
      "0\n",
      "{'JavaScript': 24131}\n",
      "{'HTML': 1078}\n",
      "{'CSS': 564}\n",
      "1\n",
      "{'JavaScript': 19841}\n",
      "{'HTML': 1084}\n",
      "{'CSS': 564}\n",
      "{'Shell': 103}\n"
     ]
    },
    {
     "data": {
      "text/html": [
       "<div>\n",
       "<style scoped>\n",
       "    .dataframe tbody tr th:only-of-type {\n",
       "        vertical-align: middle;\n",
       "    }\n",
       "\n",
       "    .dataframe tbody tr th {\n",
       "        vertical-align: top;\n",
       "    }\n",
       "\n",
       "    .dataframe thead th {\n",
       "        text-align: right;\n",
       "    }\n",
       "</style>\n",
       "<table border=\"1\" class=\"dataframe\">\n",
       "  <thead>\n",
       "    <tr style=\"text-align: right;\">\n",
       "      <th></th>\n",
       "      <th>Language</th>\n",
       "      <th>value</th>\n",
       "    </tr>\n",
       "  </thead>\n",
       "  <tbody>\n",
       "    <tr>\n",
       "      <th>0</th>\n",
       "      <td>JavaScript</td>\n",
       "      <td>24131</td>\n",
       "    </tr>\n",
       "    <tr>\n",
       "      <th>1</th>\n",
       "      <td>HTML</td>\n",
       "      <td>1078</td>\n",
       "    </tr>\n",
       "    <tr>\n",
       "      <th>2</th>\n",
       "      <td>CSS</td>\n",
       "      <td>564</td>\n",
       "    </tr>\n",
       "    <tr>\n",
       "      <th>3</th>\n",
       "      <td>JavaScript</td>\n",
       "      <td>19841</td>\n",
       "    </tr>\n",
       "    <tr>\n",
       "      <th>4</th>\n",
       "      <td>HTML</td>\n",
       "      <td>1084</td>\n",
       "    </tr>\n",
       "    <tr>\n",
       "      <th>5</th>\n",
       "      <td>CSS</td>\n",
       "      <td>564</td>\n",
       "    </tr>\n",
       "    <tr>\n",
       "      <th>6</th>\n",
       "      <td>Shell</td>\n",
       "      <td>103</td>\n",
       "    </tr>\n",
       "  </tbody>\n",
       "</table>\n",
       "</div>"
      ],
      "text/plain": [
       "     Language  value\n",
       "0  JavaScript  24131\n",
       "1        HTML   1078\n",
       "2         CSS    564\n",
       "3  JavaScript  19841\n",
       "4        HTML   1084\n",
       "5         CSS    564\n",
       "6       Shell    103"
      ]
     },
     "execution_count": 18,
     "metadata": {},
     "output_type": "execute_result"
    }
   ],
   "source": [
    "import pandas as pd\n",
    "\n",
    "usage_information = []\n",
    "\n",
    "for i, repo in enumerate(langArr):\n",
    "    print(i)\n",
    "    for j, usage in enumerate(repo):\n",
    "        print(usage)\n",
    "        for key, value in usage.items():\n",
    "            data = []\n",
    "            data.append(key)\n",
    "            data.append(value)\n",
    "            usage_information.append(data)\n",
    "            \n",
    "usage_df = pd.DataFrame(usage_information, columns = ['Language', 'value'])\n",
    "usage_df"
   ]
  },
  {
   "cell_type": "code",
   "execution_count": null,
   "id": "85bb5935",
   "metadata": {},
   "outputs": [],
   "source": []
  }
 ],
 "metadata": {
  "kernelspec": {
   "display_name": "Python 3 (ipykernel)",
   "language": "python",
   "name": "python3"
  },
  "language_info": {
   "codemirror_mode": {
    "name": "ipython",
    "version": 3
   },
   "file_extension": ".py",
   "mimetype": "text/x-python",
   "name": "python",
   "nbconvert_exporter": "python",
   "pygments_lexer": "ipython3",
   "version": "3.9.7"
  }
 },
 "nbformat": 4,
 "nbformat_minor": 5
}
