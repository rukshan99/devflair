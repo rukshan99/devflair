{
 "cells": [
  {
   "cell_type": "markdown",
   "id": "311cd3df",
   "metadata": {},
   "source": [
    "# Personality Prediction Framework (v1.0) - unsupervised learning\n",
    "\n",
    "Developed by: R.T.R Jayasekara"
   ]
  },
  {
   "cell_type": "markdown",
   "id": "f2ba0d73",
   "metadata": {},
   "source": [
    "## Required Libraries"
   ]
  },
  {
   "cell_type": "code",
   "execution_count": 1,
   "id": "0fbdef25",
   "metadata": {},
   "outputs": [],
   "source": [
    "from ipywidgets import widgets, interact\n",
    "\n",
    "import matplotlib.pyplot as plt\n",
    "%matplotlib inline\n",
    "plt.style.use(\"ggplot\")"
   ]
  },
  {
   "cell_type": "markdown",
   "id": "91199e0e",
   "metadata": {},
   "source": [
    "## Text Preprocessor\n",
    "\n",
    "In order to work with text data, it is important to transform the raw text into a form that can be understood and used by Machine Learning algorithms, this is called text preprocessing.\n",
    "\n",
    "The Text Preprocessor component consists of two sub-components; the Normalizer which converts raw text data to text tokens and the Vectorizer which converts the text tokens to vectors."
   ]
  },
  {
   "cell_type": "markdown",
   "id": "41516c60",
   "metadata": {},
   "source": [
    "### Normalizer\n"
   ]
  },
  {
   "cell_type": "code",
   "execution_count": 2,
   "id": "efec9ae2",
   "metadata": {},
   "outputs": [
    {
     "name": "stderr",
     "output_type": "stream",
     "text": [
      "[nltk_data] Downloading package words to\n",
      "[nltk_data]     C:\\Users\\User\\AppData\\Roaming\\nltk_data...\n",
      "[nltk_data]   Package words is already up-to-date!\n"
     ]
    },
    {
     "data": {
      "text/plain": [
       "True"
      ]
     },
     "execution_count": 2,
     "metadata": {},
     "output_type": "execute_result"
    }
   ],
   "source": [
    "# Libraries\n",
    "import re\n",
    "import unidecode\n",
    "import nltk\n",
    "import emoji\n",
    "import spacy\n",
    "from spacy.lang.en.stop_words import STOP_WORDS\n",
    "\n",
    "# Python -m spacy download en_core_web_sm\n",
    "nlp = spacy.load(\"en_core_web_sm\")\n",
    "\n",
    "# Download NLTK words corpora\n",
    "nltk.download('words')"
   ]
  },
  {
   "cell_type": "code",
   "execution_count": 3,
   "id": "1935a0ec",
   "metadata": {},
   "outputs": [],
   "source": [
    "def normalizer(sentence):\n",
    " \n",
    "    # Remove ||| from kaggle dataset\n",
    "    sentence = re.sub(\"[]|||[]\", \" \", sentence)\n",
    "\n",
    "    # Handle foreign letters\n",
    "    sentence = unidecode.unidecode(sentence)\n",
    "\n",
    "    # Remove numbers\n",
    "    sentence = re.sub(r'\\d+', '', sentence)\n",
    "\n",
    "    # Make the string lower-case\n",
    "    sentence = sentence.lower()\n",
    "    \n",
    "    # remove reddit subreddit urls\n",
    "    sentence = re.sub(\"/r/[0-9A-Za-z]\", \"\", sentence)\n",
    "\n",
    "    # MBTI types\n",
    "    MBTI_types = ['infj', 'entp', 'intp', 'intj', 'entj', 'enfj', 'infp', 'enfp',\n",
    "              'isfp', 'istp', 'isfj', 'istj', 'estp', 'esfp', 'estj', 'esfj',\n",
    "              'mbti']\n",
    "\n",
    "    tokens = nlp(sentence)\n",
    "    \n",
    "    words = set(nltk.corpus.words.words())\n",
    "\n",
    "    tokens = [ti for ti in tokens if ti.lower_ not in STOP_WORDS]\n",
    "    tokens = [ti for ti in tokens if not ti.is_space]\n",
    "    tokens = [ti for ti in tokens if not ti.is_punct]\n",
    "    tokens = [ti for ti in tokens if not ti.like_num]\n",
    "    tokens = [ti for ti in tokens if not ti.like_url]\n",
    "    tokens = [ti for ti in tokens if not ti.like_email]\n",
    "    tokens = [ti for ti in tokens if ti.lower_ not in MBTI_types]\n",
    "    tokens = [ti for ti in tokens if ti.lower_ in words]\n",
    "\n",
    "    # lemmatize\n",
    "    tokens = [ti.lemma_ for ti in tokens if ti.lemma_ not in STOP_WORDS]\n",
    "    tokens = [ti for ti in tokens if len(ti) > 1]\n",
    "\n",
    "    return tokens"
   ]
  },
  {
   "cell_type": "markdown",
   "id": "662780d4",
   "metadata": {},
   "source": [
    "### Vectorizer"
   ]
  },
  {
   "cell_type": "code",
   "execution_count": 4,
   "id": "88c13c81",
   "metadata": {},
   "outputs": [],
   "source": [
    "# Libraries\n",
    "import numpy as np\n",
    "import pandas as pd\n",
    "from sklearn.feature_extraction.text import TfidfVectorizer"
   ]
  },
  {
   "cell_type": "code",
   "execution_count": null,
   "id": "05e9029c",
   "metadata": {
    "scrolled": false
   },
   "outputs": [],
   "source": [
    "# Read dataframe\n",
    "df = pd.read_csv(\"../datasets/posts_dataset.csv\")\n",
    "\n",
    "# Apply normalizer function to the entire dataframe\n",
    "df[\"tokens\"] = df[\"posts\"].apply(normalizer)\n",
    "\n",
    "#drop unnecessary from the dataframe\n",
    "df.drop('posts', inplace=True, axis=1)\n",
    "df.drop('type', inplace=True, axis=1)\n",
    "\n",
    "# Saving the dataframe to a csv so that this section need not to run everytime\n",
    "df.to_csv('../datasets/ppf_dataframe.csv')\n",
    "df.head(10)\n",
    "\n",
    "#sample_text = \"Final year undergraduate at Sri Lanka Institute of Information Technology, future Software Engineer. My passion for technology made me fall in love with software development and is the reason to follow my BSc (Hons) Information Technology degree program specializing in Software Engineering. #SLIIT 😁\"\n",
    "#sample_text_tokens = normalizer(sample_text)\n",
    "#print(sample_text_tokens)"
   ]
  },
  {
   "cell_type": "code",
   "execution_count": 5,
   "id": "1f3402dc",
   "metadata": {},
   "outputs": [],
   "source": [
    "# Used to build the TF-IDF vectorizer with the corpus\n",
    "def fit_tfidf(posts_corpus):\n",
    "  tf_vect = TfidfVectorizer()\n",
    "  tf_vect.fit(posts_corpus)\n",
    "  return tf_vect\n",
    "\n",
    "# Fit the vectorizer on the corpus, and transform the corpus\n",
    "df = pd.read_csv(\"../datasets/ppf_dataframe_kmeans.csv\")\n",
    "tf_vect = fit_tfidf(df[\"tokens\"]) #the tokenized text in the data frame\n",
    "tf_mtx = tf_vect.transform(df[\"tokens\"])\n",
    "\n",
    "#tf_vect = fit_tfidf(sample_text_tokens)\n",
    "#tf_vect.transform(sample_text_tokens).toarray()\n",
    "\n",
    "#df['vectors'] = pd.DataFrame(tf_mtx.toarray())\n",
    "#df.to_csv('dataframe_with_vectors.csv')"
   ]
  },
  {
   "cell_type": "code",
   "execution_count": 6,
   "id": "027ef2b5",
   "metadata": {},
   "outputs": [
    {
     "name": "stdout",
     "output_type": "stream",
     "text": [
      "[[0. 0. 0. ... 0. 0. 0.]\n",
      " [0. 0. 0. ... 0. 0. 0.]\n",
      " [0. 0. 0. ... 0. 0. 0.]\n",
      " ...\n",
      " [0. 0. 0. ... 0. 0. 0.]\n",
      " [0. 0. 0. ... 0. 0. 0.]\n",
      " [0. 0. 0. ... 0. 0. 0.]]\n"
     ]
    }
   ],
   "source": [
    "vectors = tf_mtx.toarray()\n",
    "print(vectors)"
   ]
  },
  {
   "cell_type": "markdown",
   "id": "61d32b99",
   "metadata": {},
   "source": [
    "# Machine Learning Model"
   ]
  },
  {
   "cell_type": "markdown",
   "id": "a3020d90",
   "metadata": {},
   "source": [
    "## K-means"
   ]
  },
  {
   "cell_type": "markdown",
   "id": "f619a093",
   "metadata": {},
   "source": [
    "### Elbow method"
   ]
  },
  {
   "cell_type": "code",
   "execution_count": 7,
   "id": "e33d45a5",
   "metadata": {},
   "outputs": [
    {
     "data": {
      "image/png": "[encoded data removed]",
      "text/plain": [
       "<Figure size 432x288 with 1 Axes>"
      ]
     },
     "metadata": {},
     "output_type": "display_data"
    }
   ],
   "source": [
    "from sklearn.cluster import KMeans\n",
    "\n",
    "## Elbow method to identify the optimal no of K\n",
    "k_clusters = 10\n",
    "\n",
    "score = []\n",
    "for i in range(1,k_clusters + 1):\n",
    "    kmeans = KMeans(n_clusters=i,init='k-means++')\n",
    "    kmeans.fit(tf_mtx)\n",
    "    score.append(kmeans.inertia_)\n",
    "plt.plot(range(1,k_clusters + 1 ),score)\n",
    "plt.title('The Elbow Method')\n",
    "plt.xlabel('Number of clusters')\n",
    "plt.ylabel('Score')\n",
    "plt.savefig('images/ppf_kmeans_elbow.png')\n",
    "plt.show()"
   ]
  },
  {
   "cell_type": "code",
   "execution_count": 8,
   "id": "8e8c9e84",
   "metadata": {},
   "outputs": [],
   "source": [
    "# Optimal K value (no of clusters)\n",
    "k_clusters = 4"
   ]
  },
  {
   "cell_type": "code",
   "execution_count": 10,
   "id": "81bfccba",
   "metadata": {},
   "outputs": [
    {
     "ename": "KeyboardInterrupt",
     "evalue": "",
     "output_type": "error",
     "traceback": [
      "\u001b[1;31m---------------------------------------------------------------------------\u001b[0m",
      "\u001b[1;31mKeyboardInterrupt\u001b[0m                         Traceback (most recent call last)",
      "\u001b[1;32m~\\AppData\\Local\\Temp/ipykernel_10356/3069423260.py\u001b[0m in \u001b[0;36m<module>\u001b[1;34m\u001b[0m\n\u001b[0;32m      1\u001b[0m \u001b[1;32mfrom\u001b[0m \u001b[0msklearn\u001b[0m\u001b[1;33m.\u001b[0m\u001b[0mcluster\u001b[0m \u001b[1;32mimport\u001b[0m \u001b[0mKMeans\u001b[0m\u001b[1;33m\u001b[0m\u001b[1;33m\u001b[0m\u001b[0m\n\u001b[0;32m      2\u001b[0m \u001b[0mmodelkmeans\u001b[0m \u001b[1;33m=\u001b[0m \u001b[0mKMeans\u001b[0m\u001b[1;33m(\u001b[0m\u001b[0mn_clusters\u001b[0m\u001b[1;33m=\u001b[0m\u001b[0mk_clusters\u001b[0m\u001b[1;33m,\u001b[0m \u001b[0minit\u001b[0m\u001b[1;33m=\u001b[0m\u001b[1;34m'k-means++'\u001b[0m\u001b[1;33m,\u001b[0m \u001b[0mn_init\u001b[0m\u001b[1;33m=\u001b[0m\u001b[1;36m1000\u001b[0m\u001b[1;33m)\u001b[0m\u001b[1;33m\u001b[0m\u001b[1;33m\u001b[0m\u001b[0m\n\u001b[1;32m----> 3\u001b[1;33m \u001b[0mmodelkmeans\u001b[0m\u001b[1;33m.\u001b[0m\u001b[0mfit\u001b[0m\u001b[1;33m(\u001b[0m\u001b[0mtf_mtx\u001b[0m\u001b[1;33m)\u001b[0m\u001b[1;33m\u001b[0m\u001b[1;33m\u001b[0m\u001b[0m\n\u001b[0m\u001b[0;32m      4\u001b[0m \u001b[1;33m\u001b[0m\u001b[0m\n\u001b[0;32m      5\u001b[0m \u001b[0mprint\u001b[0m\u001b[1;33m(\u001b[0m\u001b[0mmodelkmeans\u001b[0m\u001b[1;33m.\u001b[0m\u001b[0mcluster_centers_\u001b[0m\u001b[1;33m)\u001b[0m\u001b[1;33m\u001b[0m\u001b[1;33m\u001b[0m\u001b[0m\n",
      "\u001b[1;32mD:\\Software\\Anaconda\\lib\\site-packages\\sklearn\\cluster\\_k_means.py\u001b[0m in \u001b[0;36mfit\u001b[1;34m(self, X, y, sample_weight)\u001b[0m\n\u001b[0;32m    930\u001b[0m             \u001b[1;32mfor\u001b[0m \u001b[0mseed\u001b[0m \u001b[1;32min\u001b[0m \u001b[0mseeds\u001b[0m\u001b[1;33m:\u001b[0m\u001b[1;33m\u001b[0m\u001b[1;33m\u001b[0m\u001b[0m\n\u001b[0;32m    931\u001b[0m                 \u001b[1;31m# run a k-means once\u001b[0m\u001b[1;33m\u001b[0m\u001b[1;33m\u001b[0m\u001b[0m\n\u001b[1;32m--> 932\u001b[1;33m                 labels, inertia, centers, n_iter_ = kmeans_single(\n\u001b[0m\u001b[0;32m    933\u001b[0m                     \u001b[0mX\u001b[0m\u001b[1;33m,\u001b[0m \u001b[0msample_weight\u001b[0m\u001b[1;33m,\u001b[0m \u001b[0mself\u001b[0m\u001b[1;33m.\u001b[0m\u001b[0mn_clusters\u001b[0m\u001b[1;33m,\u001b[0m\u001b[1;33m\u001b[0m\u001b[1;33m\u001b[0m\u001b[0m\n\u001b[0;32m    934\u001b[0m                     \u001b[0mmax_iter\u001b[0m\u001b[1;33m=\u001b[0m\u001b[0mself\u001b[0m\u001b[1;33m.\u001b[0m\u001b[0mmax_iter\u001b[0m\u001b[1;33m,\u001b[0m \u001b[0minit\u001b[0m\u001b[1;33m=\u001b[0m\u001b[0minit\u001b[0m\u001b[1;33m,\u001b[0m \u001b[0mverbose\u001b[0m\u001b[1;33m=\u001b[0m\u001b[0mself\u001b[0m\u001b[1;33m.\u001b[0m\u001b[0mverbose\u001b[0m\u001b[1;33m,\u001b[0m\u001b[1;33m\u001b[0m\u001b[1;33m\u001b[0m\u001b[0m\n",
      "\u001b[1;32mD:\\Software\\Anaconda\\lib\\site-packages\\sklearn\\cluster\\_k_means.py\u001b[0m in \u001b[0;36m_kmeans_single_lloyd\u001b[1;34m(X, sample_weight, n_clusters, max_iter, init, verbose, x_squared_norms, random_state, tol, precompute_distances)\u001b[0m\n\u001b[0;32m    426\u001b[0m         \u001b[1;31m# computation of the means is also called the M-step of EM\u001b[0m\u001b[1;33m\u001b[0m\u001b[1;33m\u001b[0m\u001b[0m\n\u001b[0;32m    427\u001b[0m         \u001b[1;32mif\u001b[0m \u001b[0msp\u001b[0m\u001b[1;33m.\u001b[0m\u001b[0missparse\u001b[0m\u001b[1;33m(\u001b[0m\u001b[0mX\u001b[0m\u001b[1;33m)\u001b[0m\u001b[1;33m:\u001b[0m\u001b[1;33m\u001b[0m\u001b[1;33m\u001b[0m\u001b[0m\n\u001b[1;32m--> 428\u001b[1;33m             centers = _k_means._centers_sparse(X, sample_weight, labels,\n\u001b[0m\u001b[0;32m    429\u001b[0m                                                n_clusters, distances)\n\u001b[0;32m    430\u001b[0m         \u001b[1;32melse\u001b[0m\u001b[1;33m:\u001b[0m\u001b[1;33m\u001b[0m\u001b[1;33m\u001b[0m\u001b[0m\n",
      "\u001b[1;31mKeyboardInterrupt\u001b[0m: "
     ]
    }
   ],
   "source": [
    "from sklearn.cluster import KMeans\n",
    "modelkmeans = KMeans(n_clusters=k_clusters, init='k-means++', n_init=1000)\n",
    "modelkmeans.fit(tf_mtx)\n",
    "\n",
    "print(modelkmeans.cluster_centers_)"
   ]
  },
  {
   "cell_type": "code",
   "execution_count": null,
   "id": "203157d7",
   "metadata": {},
   "outputs": [],
   "source": [
    "clusters = modelkmeans.predict(tf_mtx)"
   ]
  },
  {
   "cell_type": "code",
   "execution_count": null,
   "id": "d95d0556",
   "metadata": {},
   "outputs": [],
   "source": [
    "df[\"ClusterName\"] = clusters\n",
    "df.head(20)"
   ]
  },
  {
   "cell_type": "markdown",
   "id": "eb42a9fe",
   "metadata": {},
   "source": [
    "### View top terms per cluster"
   ]
  },
  {
   "cell_type": "code",
   "execution_count": null,
   "id": "d1c25c9e",
   "metadata": {},
   "outputs": [],
   "source": [
    "import seaborn as sns\n",
    "\n",
    "def get_top_features_cluster(tf_idf_array, prediction, n_feats):\n",
    "    labels = np.unique(prediction)\n",
    "    dfs = []\n",
    "    for label in labels:\n",
    "        id_temp = np.where(prediction==label) # indices for each cluster\n",
    "        x_means = np.mean(tf_idf_array[id_temp], axis = 0) # returns average score across cluster\n",
    "        sorted_means = np.argsort(x_means)[::-1][:n_feats] # indices with top 20 scores\n",
    "        features = tf_vect.get_feature_names()\n",
    "        best_features = [(features[i], x_means[i]) for i in sorted_means]\n",
    "        df = pd.DataFrame(best_features, columns = ['features', 'score'])\n",
    "        dfs.append(df)\n",
    "    return dfs\n",
    "\n",
    "\n",
    "def plotWords(dfs, n_feats):\n",
    "    for i in range(0, len(dfs)):\n",
    "        plt.figure(figsize=(8, 2))\n",
    "        plt.title((\"Most Common Words in Cluster {}\".format(i)), fontsize=10, fontweight='bold')\n",
    "        sns.barplot(x = 'score' , y = 'features', orient = 'h' , data = dfs[i][:n_feats])\n",
    "\n",
    "dfs = get_top_features_cluster(tf_mtx.toarray(), clusters, 4)\n",
    "plotWords(dfs, 4)"
   ]
  },
  {
   "cell_type": "code",
   "execution_count": null,
   "id": "74ac3864",
   "metadata": {},
   "outputs": [],
   "source": [
    "# Just print it to the screen\n",
    "order_centroids = modelkmeans.cluster_centers_.argsort()[:, ::-1]\n",
    "\n",
    "terms = tf_vect.get_feature_names()\n",
    "print(terms)\n",
    "for i in range(k_clusters):\n",
    "    top_ten_words = [terms[ind] for ind in order_centroids[i, :k_clusters]]\n",
    "    print(\"Cluster {}: {}\".format(i, ' '.join(top_ten_words)))\n"
   ]
  },
  {
   "cell_type": "markdown",
   "id": "ad708342",
   "metadata": {
    "scrolled": true
   },
   "source": [
    "### Plot the clusters in a scatter plot"
   ]
  },
  {
   "cell_type": "code",
   "execution_count": null,
   "id": "47f2642b",
   "metadata": {},
   "outputs": [],
   "source": [
    "from sklearn.decomposition import PCA\n",
    "\n",
    "sklearn_pca = PCA(n_components = 2)\n",
    "Y_sklearn = sklearn_pca.fit_transform(tf_mtx.toarray())\n",
    "kmeans = KMeans(n_clusters=k_clusters, max_iter=600, algorithm = 'auto')\n",
    "fitted = kmeans.fit(Y_sklearn)\n",
    "prediction = kmeans.predict(Y_sklearn)\n",
    "\n",
    "plt.figure(figsize=(14, 7))\n",
    "plt.scatter(Y_sklearn[:, 0], Y_sklearn[:, 1], c=prediction, s=40, cmap='viridis', linewidths=5)\n",
    "\n",
    "centers = fitted.cluster_centers_\n",
    "plt.scatter(centers[:, 0], centers[:, 1],c='red', s=200, alpha=0.6);\n",
    "plt.title('Visualization of Clustered data')\n",
    "plt.savefig('images/ppf_kmeans_clusters.png')"
   ]
  },
  {
   "cell_type": "markdown",
   "id": "2c30f086",
   "metadata": {},
   "source": [
    "### Prediction"
   ]
  },
  {
   "cell_type": "code",
   "execution_count": null,
   "id": "b922bf0f",
   "metadata": {},
   "outputs": [],
   "source": [
    "# samples\n",
    "sample_con = [[\"I always have a plan for the day, week, or year|||I like to be prepared|||I put everything back in its proper place|||I tend to pay attention to small details|||I never wait until the last minute to complete a task|||Planners, calendars, and other organizational tools keep me on track|||When I complete a task, I make sure everything is done right|||My room tends to be clean, even when people are not coming over|||I have a morning routine that I stick to every morning|||I don’t have any problems avoiding cravings or impulse decisions\"]]\n",
    "sample_ext = [\"My ideal weekend is surrounded by friends and family|||I don’t feel uncomfortable when I need to take charge of a situation|||People say that I’m the life of the party!|||When things get out of control, I’m likely to take control|||I find new people interesting and exciting|||I fill my days with tons of activities|||I am the most cheerful person in my group of friends!|||Large friend groups are more fulfilling than a tight-knit circle|||I would rather host a party than attend a party|||I never run out of stories to tell\"]\n",
    "sample_agr = [\"I trust people easily|||It’s important for me to be honest with the people I love|||Before I make a decision, I think about the impact it will have on others|||I am a generally patient person|||I don’t like to start drama or be involved in conflicts|||There is a lot that other people can teach me|||I tend not to question the motives or intentions of others|||I don’t get annoyed easily|||People would describe me as gentle|||I forgive people easily\"]\n",
    "sample_X = [\"conscientiousness\"]"
   ]
  },
  {
   "cell_type": "code",
   "execution_count": null,
   "id": "1bf6b32d",
   "metadata": {},
   "outputs": [],
   "source": [
    "cleaned_data = pd.DataFrame(sample_con, columns=[\"texts\"])\n",
    "cleaned_data['tokens'] = cleaned_data[\"texts\"].apply(normalizer)\n",
    "\n",
    "predicted = modelkmeans.predict(tf_vect.transform(cleaned_data['tokens'][0]))\n",
    "predicted\n",
    "\n",
    "# cluster 1 => conscientiousness"
   ]
  },
  {
   "cell_type": "code",
   "execution_count": null,
   "id": "0cf0bded",
   "metadata": {},
   "outputs": [],
   "source": []
  }
 ],
 "metadata": {
  "kernelspec": {
   "display_name": "Python 3 (ipykernel)",
   "language": "python",
   "name": "python3"
  },
  "language_info": {
   "codemirror_mode": {
    "name": "ipython",
    "version": 3
   },
   "file_extension": ".py",
   "mimetype": "text/x-python",
   "name": "python",
   "nbconvert_exporter": "python",
   "pygments_lexer": "ipython3",
   "version": "3.9.7"
  }
 },
 "nbformat": 4,
 "nbformat_minor": 5
}
