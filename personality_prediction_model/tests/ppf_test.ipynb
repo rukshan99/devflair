{
 "cells": [
  {
   "cell_type": "markdown",
   "id": "85de9e4e",
   "metadata": {},
   "source": [
    "## Normalization"
   ]
  },
  {
   "cell_type": "code",
   "execution_count": 1,
   "id": "a0edbe1d",
   "metadata": {},
   "outputs": [],
   "source": [
    "# Libraries\n",
    "import re\n",
    "import unidecode\n",
    "import spacy\n",
    "from spacy.lang.en.stop_words import STOP_WORDS\n",
    "\n",
    "# Python -m spacy download en_core_web_sm\n",
    "nlp = spacy.load(\"en_core_web_sm\")"
   ]
  },
  {
   "cell_type": "code",
   "execution_count": 2,
   "id": "be9df215",
   "metadata": {},
   "outputs": [
    {
     "name": "stdout",
     "output_type": "stream",
     "text": [
      "infj   rj@gmail.com   https://google.com      use as little adjectives possible and always ask questions about why she/he does something. believe it or not we are surprisingly logical.  also consider switching your rolls the infp is the eternal...   no, not a day passes where i want to be another type. when i found out how rare infps were i fell in love with myself. i used to think nobody loved me but really i just had expectations that were too...   i used to use tumblr, but now parental controls are blocking it... i used to let my weird fly there.   esfp! sit please, just try sitting alone without calling anyone no talking to anyone no social networking and no sleeping!   all esfps i know are super extroverted! just thinking about them makes...   sausage? i think it's gross. all meat is, it came from animals for goodness sake! it's weird! i don't even understand how you can look at one without feeling grossed out!   it says i'm obsessed about japan and i can see myself feeling too confident and running through the streets of japan squealing aishiteru nippon! while wearing a fake crown.   aishiteru nippon...   if they put some money into an account once a month/every time when paid like maybe a fourth of what they got paid and forget about the account i think they could be really wealthy.   i really love intj's they are one of the most fascinating people i've ever seen. that shy way they have of expressing their lovey dovey feelings... even though they are so confident... after you get...   america and all of its teenagers. i hate that stereotypical drinking slurpies mixed with alcohol, lose virginity on prom night, way of acting. i hate girls don't have enough respect to put some...   i just curl up in a ball and cry. or rant online.   listen to your tummy the moment it growls you should always eat something. if that doesn't work set up an alarm to bing around dinner time and don't stop it until you eat, if your working on a...   i don't know if this counts as sad, but i love japanese songs and shows about insanity. like paranoia dial, deathnote, etc.   according to state regulated tests i am good with math and horrible with history, even though i'm infp. i don't think being good at math effects what type you are.   i've never spoken with any ntjs but... i don't think the relationship between entj and infp would work. no matter how little friends you have the idea of even the smallest of friend circles is sort...   . if an infp feels immediate attraction to someone without knowing them very well, after getting to know them better might lose interest.   this happened between my first boyfriend an i. when i...   i sometimes like to close my eyes and imagine a world where i exist in my favorite anime, deathnote but when my parents or someone makes me get up or open my eyes i just get so sad. remembering none...   wouldn't that just start a conversation? i don't think the infp can feel hurt over being told that they don't make sense.   really, i've always seen the infp/intj relationship as a puzzle (the...   i think that near from deathnote is an infp.   i think there is a really easy answer to this question, it's the pressure of life. intj's in general tend to not be liked because of their stereotypes. people see them as cocky geniuses. although,...   i have a large fear of crowds, i can't ever go out alone and when i do go out (if i go into a crowd) i normally end up crying or hiding.   wow! what a great friendship!   thanks!   yay someone realized what my username meant! hehe! hi!   well, my mom has a tracky thingy on my phone and laptop! i can't go anywhere! (a*-adega-!adeg)a*-i,u a\">>a\"a\">> *flips a table*   yeah i hate that, it's normally my mom. she's supposed to be introverted but, i'm starting to wonder if she's actually extroverted.   i've heard that intj's and infp's tend to be attracted to each other. so i wanted to ask what do intj's think of infp's normally?   hmm, i have a pretty big dream for my future. i've been thinking out lots of details and such when i get bored.   --- where i'd live:     i'd live in tokyo japan, inside of a sky-scraper that...   words have never gone a long way in making me feel appreciated, but a hug makes me feel super appreciated.   to make people happy.   i'm totally crushing on near from death note (intj) and l from death note (intp) !! oh and there's levi from attack on titan, and sou from inu x boku ss, and grover from percy jackson and the...   i'm trying to look for a new anime to watch right now. i love death note, black butler, karneval, and michiko to hatchin.   my first anime ever was inu x boku ss!   - when i hide in my room alone after being outside for to long  - when i try to avoid talkative people   i am the one who will listen to a song on repeat while creating a story out of it in my mind i am the one who will secretly flip you off if you make me mad i will stare at a picture of my favorite...   i'd have to say music videos! especially ones that are animated ((for example: xhatsune miku - murder case at the mansion of antiquarian books - youtube ))   i've never met any infj's, i don't think i have at least. but i'm going to take a guess from what i've heard about infj's and the posts i've seen on the forums and say that they are very curious and...   i'd say  billion people, saving just your family is really selfish.   it's nice to meet you! what's your favorite anime?   when someone thinks i'm unable to take care of myself online. this might take a story for you to understand what i mean so allow me to explain.   i was on tumblr scrolling through anime-roleplay...   dude, calm down. nobody said your writing was bad, just a little short.   i have the same exact problem! i remember once i said i wanted to get to know someone better (i really really wanted to be their friend, they seemed really cool.) and they said sorry i have a...   i would say an albino who is very short and looks very feminine. preferably one who wears a poker face....   this is totally spontaneous--   ---  once upon a time, there was a little girl, she was dubbed ashley, she was a princess.  a sweet princess,   i used to be an enfp, i started changing around the time i first took the crct. my whole life none of my peers have talked to me very much at all, i've normally been more social with adults than...   i'd like to just get by, because people who save/change the world tend to get put in danger a lot. i mean i'm scared of doing things like giving food to beggars or even going near them, i can't help...   i love l change the world!!! i can't really put my finger on what i liked about it, but it was just perfect!   i don't like reading book books, i prefer reading manga or comic books. sometimes even childrens books, i just don't like pages full of words with out pictures to help you imagine what the characters...   school, daydreaming, writing.   hi everyone! i know my username is a little long so feel free to call me kc. i'm an infp... i am highly introverted, so forgive any of my bad social skills. i love anime, especially death-note i'm...   i don't know if this has been said yet, but mello from death note seems to be an infp or enfp to me.\n"
     ]
    },
    {
     "name": "stderr",
     "output_type": "stream",
     "text": [
      "C:\\Users\\User\\AppData\\Local\\Temp/ipykernel_12408/804580032.py:3: FutureWarning: Possible set union at position 2\n",
      "  sentence = re.sub(\"[]|||[]\", \" \", sentence)\n",
      "C:\\Users\\User\\AppData\\Local\\Temp/ipykernel_12408/804580032.py:3: FutureWarning: Possible set union at position 3\n",
      "  sentence = re.sub(\"[]|||[]\", \" \", sentence)\n"
     ]
    }
   ],
   "source": [
    "sentence = \"INFJ|||rj@gmail.com|||https://google.com|||12345|||Use as little adjectives possible and always ask questions about why she/he does something. Believe it or not we are surprisingly logical.  Also consider switching your rolls the INFP is the eternal...|||No, not a day passes where I want to be another type. When I found out how rare infps were I fell in love with myself. I used to think nobody loved me but really I just had expectations that were too...|||I used to use tumblr, but now parental controls are blocking it... I used to let my weird fly there.|||ESFP! Sit please, just try sitting alone without calling anyone no talking to anyone no social networking and no sleeping!   All esfps I know are super extroverted! Just thinking about them makes...|||Sausage? I think it's gross. All meat is, it came from animals for goodness sake! It's weird! I don't even understand how you can look at one without feeling grossed out!|||It says I'm obsessed about Japan and I can see myself feeling too confident and running through the streets of japan squealing aishiteru Nippon! While wearing a fake crown.   Aishiteru Nippon...|||If they put some money into an account once a month/every time when paid like maybe a fourth of what they got paid and forget about the account I think they could be really wealthy.|||I really love INTJ's they are one of the most fascinating people I've ever seen. That shy way they have of expressing their lovey dovey feelings... Even though they are so confident... After you get...|||America and all of its teenagers. I hate that stereotypical drinking slurpies mixed with alcohol, lose virginity on prom night, way of acting. I hate girls don't have enough respect to put some...|||I just curl up in a ball and cry. Or rant online.|||Listen to your tummy the moment it growls you should always eat something. If that doesn't work set up an alarm to bing around dinner time and don't stop it until you eat, if your working on a...|||I don't know if this counts as sad, but I love Japanese songs and shows about insanity. Like Paranoia Dial, Deathnote, etc.|||According to state regulated tests I am good with math and horrible with history, even though I'm INFP. I don't think being good at math effects what type you are.|||I've never spoken with any NTJs but... I don't think the relationship between entj and INFP would work. No matter how little friends you have the idea of even the smallest of friend circles is sort...|||1. If an INFP feels immediate attraction to someone without knowing them very well, after getting to know them better might lose interest.   This happened between my first boyfriend an I. When I...|||I sometimes like to close my eyes and imagine a world where I exist in my favorite anime, deathnote but when my parents or someone makes me get up or open my eyes I just get so sad. Remembering none...|||Wouldn't that just start a conversation? I don't think the INFP can feel hurt over being told that they don't make sense.   Really, I've always seen the infp/intj relationship as a puzzle (the...|||I think that Near from Deathnote is an INFP.|||I think there is a really easy answer to this question, it's the pressure of life. INTJ's in general tend to not be liked because of their stereotypes. People see them as cocky geniuses. Although,...|||I have a large fear of crowds, I can't ever go out alone and when I do go out (if I go into a crowd) I normally end up crying or hiding.|||Wow! What a great friendship!|||Thanks!|||Yay someone realized what my username meant! Hehe! Hi!|||Well, my mom has a tracky thingy on my phone and laptop! I can't go anywhere! (â•¯Â°â–¡Â°)â•¯ï¸µ â”»â”â”» *flips a table*|||Yeah I hate that, it's normally my mom. She's supposed to be introverted but, I'm starting to wonder if she's actually extroverted.|||I've heard that INTJ's and INFP's tend to be attracted to each other. So I wanted to ask what do INTJ's think of INFP's normally?|||Hmm, I have a pretty big dream for my future. I've been thinking out lots of details and such when I get bored.   --- Where I'd Live:     I'd live in Tokyo Japan, inside of a sky-scraper that...|||Words have never gone a long way in making me feel appreciated, but a hug makes me feel super appreciated.|||to make people happy.|||I'm totally crushing on Near from Death note (INTJ) and L from Death note (INTP) !! Oh and there's Levi from Attack on Titan, and Sou from Inu X Boku SS, and Grover from Percy Jackson and the...|||I'm trying to look for a new anime to watch right now. I love Death note, Black Butler, Karneval, and Michiko to Hatchin.   My first Anime ever was Inu X Boku SS!|||- When I hide in my room alone after being outside for to long  - When I try to avoid talkative people|||I am the one who will listen to a song on repeat while creating a story out of it in my mind I am the one who will secretly flip you off if you make me mad I will stare at a picture of my favorite...|||I'd have to say music videos! Especially ones that are animated ((For example: x90Hatsune Miku - Murder Case at The Mansion of Antiquarian Books - YouTube ))|||I've never met any INFJ's, I don't think I have at least. But I'm going to take a guess from what I've heard about INFJ's and the posts I've seen on the forums and say that they are very curious and...|||I'd say 2 billion people, saving just your family is really selfish.|||It's nice to meet you! What's your favorite anime?|||When someone thinks I'm unable to take care of myself online. This might take a story for you to understand what I mean so allow me to explain.   I was on tumblr scrolling through anime-roleplay...|||Dude, calm down. Nobody said your writing was bad, just a little short.|||I have the same exact problem! I remember once I said I wanted to get to know someone better (I really really wanted to be their friend, they seemed really cool.) and they said Sorry I have a...|||I would say an albino who is very short and looks very feminine. Preferably one who wears a poker face....|||This is totally spontaneous--   ---  Once upon a time, there was a little girl, She was dubbed Ashley, She was a princess.  A sweet princess,|||I used to be an ENFP, I started changing around the time I first took the CRCT. My whole life none of my peers have talked to me very much at all, I've normally been more social with adults than...|||I'd like to just get by, because people who Save/Change the world tend to get put in danger a lot. I mean I'm scared of doing things like giving food to beggars or even going near them, I can't help...|||I love L Change the world!!! I can't really put my finger on what I liked about it, but it was just perfect!|||I don't like reading book books, I prefer reading manga or comic books. Sometimes even childrens books, I just don't like pages full of words with out pictures to help you imagine what the characters...|||school, daydreaming, writing.|||Hi everyone! I know my username is a little long so feel free to call me Kc. I'm an INFP... I am highly introverted, so forgive any of my bad social skills. I love anime, especially Death-note I'm...|||I don't know if this has been said yet, but Mello from death note seems to be an INFP or ENFP to me.\"\n",
    "\n",
    "sentence = re.sub(\"[]|||[]\", \" \", sentence)\n",
    "\n",
    "sentence = unidecode.unidecode(sentence)\n",
    "\n",
    "sentence = re.sub(r'\\d+', '', sentence)\n",
    "\n",
    "sentence = sentence.lower()\n",
    "\n",
    "print(sentence)"
   ]
  },
  {
   "cell_type": "code",
   "execution_count": 3,
   "id": "f121bfba",
   "metadata": {},
   "outputs": [
    {
     "name": "stdout",
     "output_type": "stream",
     "text": [
      "infj   rj@gmail.com   https://google.com      use as little adjectives possible and always ask questions about why she/he does something. believe it or not we are surprisingly logical.  also consider switching your rolls the infp is the eternal...   no, not a day passes where i want to be another type. when i found out how rare infps were i fell in love with myself. i used to think nobody loved me but really i just had expectations that were too...   i used to use tumblr, but now parental controls are blocking it... i used to let my weird fly there.   esfp! sit please, just try sitting alone without calling anyone no talking to anyone no social networking and no sleeping!   all esfps i know are super extroverted! just thinking about them makes...   sausage? i think it's gross. all meat is, it came from animals for goodness sake! it's weird! i don't even understand how you can look at one without feeling grossed out!   it says i'm obsessed about japan and i can see myself feeling too confident and running through the streets of japan squealing aishiteru nippon! while wearing a fake crown.   aishiteru nippon...   if they put some money into an account once a month/every time when paid like maybe a fourth of what they got paid and forget about the account i think they could be really wealthy.   i really love intj's they are one of the most fascinating people i've ever seen. that shy way they have of expressing their lovey dovey feelings... even though they are so confident... after you get...   america and all of its teenagers. i hate that stereotypical drinking slurpies mixed with alcohol, lose virginity on prom night, way of acting. i hate girls don't have enough respect to put some...   i just curl up in a ball and cry. or rant online.   listen to your tummy the moment it growls you should always eat something. if that doesn't work set up an alarm to bing around dinner time and don't stop it until you eat, if your working on a...   i don't know if this counts as sad, but i love japanese songs and shows about insanity. like paranoia dial, deathnote, etc.   according to state regulated tests i am good with math and horrible with history, even though i'm infp. i don't think being good at math effects what type you are.   i've never spoken with any ntjs but... i don't think the relationship between entj and infp would work. no matter how little friends you have the idea of even the smallest of friend circles is sort...   . if an infp feels immediate attraction to someone without knowing them very well, after getting to know them better might lose interest.   this happened between my first boyfriend an i. when i...   i sometimes like to close my eyes and imagine a world where i exist in my favorite anime, deathnote but when my parents or someone makes me get up or open my eyes i just get so sad. remembering none...   wouldn't that just start a conversation? i don't think the infp can feel hurt over being told that they don't make sense.   really, i've always seen the infp/intj relationship as a puzzle (the...   i think that near from deathnote is an infp.   i think there is a really easy answer to this question, it's the pressure of life. intj's in general tend to not be liked because of their stereotypes. people see them as cocky geniuses. although,...   i have a large fear of crowds, i can't ever go out alone and when i do go out (if i go into a crowd) i normally end up crying or hiding.   wow! what a great friendship!   thanks!   yay someone realized what my username meant! hehe! hi!   well, my mom has a tracky thingy on my phone and laptop! i can't go anywhere! (a*-adega-!adeg)a*-i,u a\">>a\"a\">> *flips a table*   yeah i hate that, it's normally my mom. she's supposed to be introverted but, i'm starting to wonder if she's actually extroverted.   i've heard that intj's and infp's tend to be attracted to each other. so i wanted to ask what do intj's think of infp's normally?   hmm, i have a pretty big dream for my future. i've been thinking out lots of details and such when i get bored.   --- where i'd live:     i'd live in tokyo japan, inside of a sky-scraper that...   words have never gone a long way in making me feel appreciated, but a hug makes me feel super appreciated.   to make people happy.   i'm totally crushing on near from death note (intj) and l from death note (intp) !! oh and there's levi from attack on titan, and sou from inu x boku ss, and grover from percy jackson and the...   i'm trying to look for a new anime to watch right now. i love death note, black butler, karneval, and michiko to hatchin.   my first anime ever was inu x boku ss!   - when i hide in my room alone after being outside for to long  - when i try to avoid talkative people   i am the one who will listen to a song on repeat while creating a story out of it in my mind i am the one who will secretly flip you off if you make me mad i will stare at a picture of my favorite...   i'd have to say music videos! especially ones that are animated ((for example: xhatsune miku - murder case at the mansion of antiquarian books - youtube ))   i've never met any infj's, i don't think i have at least. but i'm going to take a guess from what i've heard about infj's and the posts i've seen on the forums and say that they are very curious and...   i'd say  billion people, saving just your family is really selfish.   it's nice to meet you! what's your favorite anime?   when someone thinks i'm unable to take care of myself online. this might take a story for you to understand what i mean so allow me to explain.   i was on tumblr scrolling through anime-roleplay...   dude, calm down. nobody said your writing was bad, just a little short.   i have the same exact problem! i remember once i said i wanted to get to know someone better (i really really wanted to be their friend, they seemed really cool.) and they said sorry i have a...   i would say an albino who is very short and looks very feminine. preferably one who wears a poker face....   this is totally spontaneous--   ---  once upon a time, there was a little girl, she was dubbed ashley, she was a princess.  a sweet princess,   i used to be an enfp, i started changing around the time i first took the crct. my whole life none of my peers have talked to me very much at all, i've normally been more social with adults than...   i'd like to just get by, because people who save/change the world tend to get put in danger a lot. i mean i'm scared of doing things like giving food to beggars or even going near them, i can't help...   i love l change the world!!! i can't really put my finger on what i liked about it, but it was just perfect!   i don't like reading book books, i prefer reading manga or comic books. sometimes even childrens books, i just don't like pages full of words with out pictures to help you imagine what the characters...   school, daydreaming, writing.   hi everyone! i know my username is a little long so feel free to call me kc. i'm an infp... i am highly introverted, so forgive any of my bad social skills. i love anime, especially death-note i'm...   i don't know if this has been said yet, but mello from death note seems to be an infp or enfp to me.\n"
     ]
    }
   ],
   "source": [
    "MBTI_types = ['infj', 'entp', 'intp', 'intj', 'entj', 'enfj', 'infp', 'enfp',\n",
    "              'isfp', 'istp', 'isfj', 'istj', 'estp', 'esfp', 'estj', 'esfj',\n",
    "              'mbti']\n",
    "\n",
    "tokens = nlp(sentence)\n",
    "\n",
    "print(tokens)"
   ]
  },
  {
   "cell_type": "code",
   "execution_count": 4,
   "id": "91f9945b",
   "metadata": {},
   "outputs": [
    {
     "name": "stdout",
     "output_type": "stream",
     "text": [
      "[use, little, adjectives, possible, ask, questions, believe, surprisingly, logical, consider, switching, rolls, eternal, day, passes, want, type, found, rare, infps, fell, love, think, loved, expectations, use, tumblr, parental, controls, blocking, let, weird, fly, sit, try, sitting, calling, talking, social, networking, sleeping, esfps, know, super, extroverted, thinking, makes, sausage, think, gross, meat, came, animals, goodness, sake, weird, understand, look, feeling, grossed, says, obsessed, japan, feeling, confident, running, streets, japan, squealing, aishiteru, nippon, wearing, fake, crown, aishiteru, nippon, money, account, month, time, paid, like, maybe, got, paid, forget, account, think, wealthy, love, fascinating, people, seen, shy, way, expressing, lovey, dovey, feelings, confident, america, teenagers, hate, stereotypical, drinking, slurpies, mixed, alcohol, lose, virginity, prom, night, way, acting, hate, girls, respect, curl, ball, cry, rant, online, listen, tummy, moment, growls, eat, work, set, alarm, bing, dinner, time, stop, eat, working, know, counts, sad, love, japanese, songs, shows, insanity, like, paranoia, dial, deathnote, etc, according, state, regulated, tests, good, math, horrible, history, think, good, math, effects, type, spoken, ntjs, think, relationship, work, matter, little, friends, idea, smallest, friend, circles, sort, feels, immediate, attraction, knowing, getting, know, better, lose, interest, happened, boyfriend, i., like, close, eyes, imagine, world, exist, favorite, anime, deathnote, parents, makes, open, eyes, sad, remembering, start, conversation, think, feel, hurt, told, sense, seen, relationship, puzzle, think, near, deathnote, think, easy, answer, question, pressure, life, general, tend, liked, stereotypes, people, cocky, geniuses, large, fear, crowds, crowd, normally, end, crying, hiding, wow, great, friendship, thanks, yay, realized, username, meant, hehe, hi, mom, tracky, thingy, phone, laptop, a*-adega-!adeg)a*-i, u, a\">>a\"a, >, >, flips, table, yeah, hate, normally, mom, supposed, introverted, starting, wonder, actually, extroverted, heard, tend, attracted, wanted, ask, think, normally, hmm, pretty, big, dream, future, thinking, lots, details, bored, live, live, tokyo, japan, inside, sky, scraper, words, gone, long, way, making, feel, appreciated, hug, makes, feel, super, appreciated, people, happy, totally, crushing, near, death, note, l, death, note, oh, levi, attack, titan, sou, inu, x, boku, ss, grover, percy, jackson, trying, look, new, anime, watch, right, love, death, note, black, butler, karneval, michiko, hatchin, anime, inu, x, boku, ss, hide, room, outside, long, try, avoid, talkative, people, listen, song, repeat, creating, story, mind, secretly, flip, mad, stare, picture, favorite, music, videos, especially, ones, animated, example, xhatsune, miku, murder, case, mansion, antiquarian, books, youtube, met, think, going, guess, heard, posts, seen, forums, curious, people, saving, family, selfish, nice, meet, favorite, anime, thinks, unable, care, online, story, understand, mean, allow, explain, tumblr, scrolling, anime, roleplay, dude, calm, said, writing, bad, little, short, exact, problem, remember, said, wanted, know, better, wanted, friend, cool, said, sorry, albino, short, looks, feminine, preferably, wears, poker, face, totally, spontaneous--, time, little, girl, dubbed, ashley, princess, sweet, princess, started, changing, time, took, crct, life, peers, talked, normally, social, adults, like, people, save, change, world, tend, danger, lot, mean, scared, things, like, giving, food, beggars, going, near, help, love, l, change, world, finger, liked, perfect, like, reading, book, books, prefer, reading, manga, comic, books, childrens, books, like, pages, words, pictures, help, imagine, characters, school, daydreaming, writing, hi, know, username, little, long, feel, free, kc, highly, introverted, forgive, bad, social, skills, love, anime, especially, death, note, know, said, mello, death, note]\n"
     ]
    }
   ],
   "source": [
    "tokens = [ti for ti in tokens if ti.lower_ not in STOP_WORDS]\n",
    "tokens = [ti for ti in tokens if not ti.is_space]\n",
    "tokens = [ti for ti in tokens if not ti.is_punct]\n",
    "tokens = [ti for ti in tokens if not ti.like_num]\n",
    "tokens = [ti for ti in tokens if not ti.like_url]\n",
    "tokens = [ti for ti in tokens if not ti.like_email]\n",
    "tokens = [ti for ti in tokens if ti.lower_ not in MBTI_types]\n",
    "\n",
    "print(tokens)"
   ]
  },
  {
   "cell_type": "code",
   "execution_count": 5,
   "id": "1ceab5ae",
   "metadata": {},
   "outputs": [
    {
     "name": "stdout",
     "output_type": "stream",
     "text": [
      "['use', 'little', 'adjective', 'possible', 'ask', 'question', 'believe', 'surprisingly', 'logical', 'consider', 'switch', 'roll', 'eternal', 'day', 'pass', 'want', 'type', 'find', 'rare', 'infps', 'fall', 'love', 'think', 'love', 'expectation', 'use', 'tumblr', 'parental', 'control', 'block', 'let', 'weird', 'fly', 'sit', 'try', 'sit', 'talk', 'social', 'networking', 'sleep', 'esfp', 'know', 'super', 'extroverted', 'think', 'sausage', 'think', 'gross', 'meat', 'come', 'animal', 'goodness', 'sake', 'weird', 'understand', 'look', 'feel', 'gross', 'obsess', 'japan', 'feel', 'confident', 'run', 'street', 'japan', 'squeal', 'aishiteru', 'nippon', 'wear', 'fake', 'crown', 'aishiteru', 'nippon', 'money', 'account', 'month', 'time', 'pay', 'like', 'maybe', 'got', 'pay', 'forget', 'account', 'think', 'wealthy', 'love', 'fascinating', 'people', 'shy', 'way', 'express', 'lovey', 'dovey', 'feeling', 'confident', 'america', 'teenager', 'hate', 'stereotypical', 'drinking', 'slurpie', 'mix', 'alcohol', 'lose', 'virginity', 'prom', 'night', 'way', 'acting', 'hate', 'girl', 'respect', 'curl', 'ball', 'cry', 'rant', 'online', 'listen', 'tummy', 'moment', 'growl', 'eat', 'work', 'set', 'alarm', 'bing', 'dinner', 'time', 'stop', 'eat', 'work', 'know', 'count', 'sad', 'love', 'japanese', 'song', 'insanity', 'like', 'paranoia', 'dial', 'deathnote', 'etc', 'accord', 'state', 'regulated', 'test', 'good', 'math', 'horrible', 'history', 'think', 'good', 'math', 'effect', 'type', 'speak', 'ntjs', 'think', 'relationship', 'work', 'matter', 'little', 'friend', 'idea', 'small', 'friend', 'circle', 'sort', 'feel', 'immediate', 'attraction', 'know', 'know', 'lose', 'interest', 'happen', 'boyfriend', 'i.', 'like', 'close', 'eye', 'imagine', 'world', 'exist', 'favorite', 'anime', 'deathnote', 'parent', 'open', 'eye', 'sad', 'remember', 'start', 'conversation', 'think', 'feel', 'hurt', 'tell', 'sense', 'relationship', 'puzzle', 'think', 'near', 'deathnote', 'think', 'easy', 'answer', 'question', 'pressure', 'life', 'general', 'tend', 'like', 'stereotype', 'people', 'cocky', 'genius', 'large', 'fear', 'crowd', 'crowd', 'normally', 'end', 'cry', 'hiding', 'wow', 'great', 'friendship', 'thank', 'yay', 'realize', 'username', 'mean', 'hehe', 'hi', 'mom', 'tracky', 'thingy', 'phone', 'laptop', 'a*-adega-!adeg)a*-i', 'a\">>a\"a', 'flip', 'table', 'yeah', 'hate', 'normally', 'mom', 'suppose', 'introverted', 'start', 'wonder', 'actually', 'extroverte', 'hear', 'tend', 'attract', 'want', 'ask', 'think', 'normally', 'hmm', 'pretty', 'big', 'dream', 'future', 'think', 'lot', 'detail', 'bored', 'live', 'live', 'tokyo', 'japan', 'inside', 'sky', 'scraper', 'word', 'long', 'way', 'feel', 'appreciated', 'hug', 'feel', 'super', 'appreciate', 'people', 'happy', 'totally', 'crush', 'near', 'death', 'note', 'death', 'note', 'oh', 'levi', 'attack', 'titan', 'sou', 'inu', 'boku', 'ss', 'grover', 'percy', 'jackson', 'try', 'look', 'new', 'anime', 'watch', 'right', 'love', 'death', 'note', 'black', 'butler', 'karneval', 'michiko', 'hatchin', 'anime', 'inu', 'boku', 'ss', 'hide', 'room', 'outside', 'long', 'try', 'avoid', 'talkative', 'people', 'listen', 'song', 'repeat', 'create', 'story', 'mind', 'secretly', 'flip', 'mad', 'stare', 'picture', 'favorite', 'music', 'video', 'especially', 'animate', 'example', 'xhatsune', 'miku', 'murder', 'case', 'mansion', 'antiquarian', 'book', 'youtube', 'meet', 'think', 'guess', 'hear', 'post', 'forum', 'curious', 'people', 'save', 'family', 'selfish', 'nice', 'meet', 'favorite', 'anime', 'think', 'unable', 'care', 'online', 'story', 'understand', 'mean', 'allow', 'explain', 'tumblr', 'scroll', 'anime', 'roleplay', 'dude', 'calm', 'writing', 'bad', 'little', 'short', 'exact', 'problem', 'remember', 'want', 'know', 'want', 'friend', 'cool', 'sorry', 'albino', 'short', 'look', 'feminine', 'preferably', 'wear', 'poker', 'face', 'totally', 'spontaneous--', 'time', 'little', 'girl', 'dub', 'ashley', 'princess', 'sweet', 'princess', 'start', 'change', 'time', 'crct', 'life', 'peer', 'talk', 'normally', 'social', 'adult', 'like', 'people', 'save', 'change', 'world', 'tend', 'danger', 'lot', 'mean', 'scared', 'thing', 'like', 'food', 'beggar', 'near', 'help', 'love', 'change', 'world', 'finger', 'like', 'perfect', 'like', 'read', 'book', 'book', 'prefer', 'read', 'manga', 'comic', 'book', 'children', 'book', 'like', 'page', 'word', 'picture', 'help', 'imagine', 'character', 'school', 'daydreaming', 'writing', 'hi', 'know', 'username', 'little', 'long', 'feel', 'free', 'kc', 'highly', 'introverted', 'forgive', 'bad', 'social', 'skill', 'love', 'anime', 'especially', 'death', 'note', 'know', 'mello', 'death', 'note']\n"
     ]
    }
   ],
   "source": [
    "# lemmatize\n",
    "tokens = [ti.lemma_ for ti in tokens if ti.lemma_ not in STOP_WORDS]\n",
    "tokens = [ti for ti in tokens if len(ti) > 1]\n",
    "\n",
    "print(tokens)"
   ]
  },
  {
   "cell_type": "markdown",
   "id": "78228172",
   "metadata": {},
   "source": [
    "## Vectorization"
   ]
  },
  {
   "cell_type": "code",
   "execution_count": 6,
   "id": "f899ea63",
   "metadata": {},
   "outputs": [],
   "source": [
    "# Libraries\n",
    "import numpy as np\n",
    "import pandas as pd\n",
    "from sklearn.feature_extraction.text import TfidfVectorizer"
   ]
  },
  {
   "cell_type": "code",
   "execution_count": 7,
   "id": "efb3babe",
   "metadata": {},
   "outputs": [
    {
     "name": "stdout",
     "output_type": "stream",
     "text": [
      "[[0. 0. 0. ... 0. 0. 0.]\n",
      " [0. 0. 0. ... 0. 0. 0.]\n",
      " [0. 0. 0. ... 0. 0. 0.]\n",
      " ...\n",
      " [0. 0. 0. ... 0. 0. 0.]\n",
      " [0. 0. 0. ... 0. 0. 0.]\n",
      " [0. 0. 0. ... 0. 0. 0.]]\n"
     ]
    }
   ],
   "source": [
    "tf_vect = TfidfVectorizer()\n",
    "\n",
    "tf_vect.fit(tokens)\n",
    "\n",
    "tf_mtx = tf_vect.fit_transform(tokens)\n",
    "\n",
    "vectors = tf_mtx.toarray()\n",
    "print(vectors)"
   ]
  },
  {
   "cell_type": "code",
   "execution_count": null,
   "id": "beb8c25f",
   "metadata": {},
   "outputs": [],
   "source": []
  }
 ],
 "metadata": {
  "kernelspec": {
   "display_name": "Python 3 (ipykernel)",
   "language": "python",
   "name": "python3"
  },
  "language_info": {
   "codemirror_mode": {
    "name": "ipython",
    "version": 3
   },
   "file_extension": ".py",
   "mimetype": "text/x-python",
   "name": "python",
   "nbconvert_exporter": "python",
   "pygments_lexer": "ipython3",
   "version": "3.9.7"
  }
 },
 "nbformat": 4,
 "nbformat_minor": 5
}
